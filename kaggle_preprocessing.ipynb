{
 "cells": [
  {
   "cell_type": "code",
   "execution_count": 0,
   "metadata": {
    "colab": {},
    "colab_type": "code",
    "id": "32p2Mjn2yoT1"
   },
   "outputs": [],
   "source": [
    "import os\n",
    "import utils\n",
    "from time import time\n",
    "\n",
    "# = = = = = = = = = = = = = = =\n",
    "\n",
    "# 0-based index of the last row of the embedding matrix (for zero-padding)\n",
    "pad_vec_idx = 1685894\n",
    "\n",
    "# parameters\n",
    "p = 1  # 1/p to go back\n",
    "q = 1  # 1/q to go out\n",
    "dimensions = 8  # dimensions for node2vec\n",
    "window = 6  # window for node2vec\n",
    "num_walks = 5\n",
    "min_walk_length = 7\n",
    "max_walk_length = 12\n",
    "# maximum number of 'sentences' (walks) in each pseudo-document\n",
    "max_doc_size = 90\n",
    "\n",
    "path_root = ''  # fill me!\n",
    "path_to_data = path_root + 'data/'\n",
    "\n",
    "\n",
    "def main():\n",
    "\n",
    "    start_time = time()\n",
    "\n",
    "    edgelists = os.listdir(path_to_data + 'edge_lists/')\n",
    "    # important to maintain alignment with the targets!\n",
    "    edgelists.sort(key=utils.natural_keys)\n",
    "\n",
    "    utils.generate_docs_embeddings(path_to_data, '1', edgelists[:50000], dimensions, window,\n",
    "                        num_walks, min_walk_length, max_walk_length, p, q, pad_vec_idx, max_doc_size)\n",
    "    utils.generate_docs_embeddings(path_to_data, '2', edgelists[50000:], dimensions, window,\n",
    "                        num_walks, min_walk_length, max_walk_length, p, q, pad_vec_idx, max_doc_size)\n",
    "\n",
    "    utils.concatenate_npy(path_to_data, 'documents1', 'documents2', 'documents.npy')\n",
    "    utils.concatenate_npy(path_to_data, 'node_embed1', 'node_embed2', 'node_embed_p1q1.npy')\n",
    "\n",
    "    print('everything done in', round(time() - start_time, 2))\n",
    "\n",
    "# = = = = = = = = = = = = = = =\n",
    "\n",
    "\n",
    "if __name__ == '__main__':\n",
    "    main()"
   ]
  },
  {
   "cell_type": "code",
   "execution_count": 0,
   "metadata": {
    "colab": {},
    "colab_type": "code",
    "id": "ebnddmFbRzyb"
   },
   "outputs": [],
   "source": []
  },
  {
   "cell_type": "code",
   "execution_count": 0,
   "metadata": {
    "colab": {},
    "colab_type": "code",
    "id": "0F2dIAc9tGMl"
   },
   "outputs": [],
   "source": []
  }
 ],
 "metadata": {
  "accelerator": "GPU",
  "colab": {
   "collapsed_sections": [],
   "name": "kaggle_preprocessing.ipynb",
   "provenance": [],
   "version": "0.3.2"
  },
  "kernelspec": {
   "display_name": "Python 3",
   "language": "python",
   "name": "python3"
  },
  "language_info": {
   "codemirror_mode": {
    "name": "ipython",
    "version": 3
   },
   "file_extension": ".py",
   "mimetype": "text/x-python",
   "name": "python",
   "nbconvert_exporter": "python",
   "pygments_lexer": "ipython3",
   "version": "3.6.4"
  }
 },
 "nbformat": 4,
 "nbformat_minor": 1
}
