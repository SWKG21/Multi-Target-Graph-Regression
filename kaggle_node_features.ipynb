{
 "cells": [
  {
   "cell_type": "code",
   "execution_count": null,
   "metadata": {},
   "outputs": [],
   "source": [
    "import os\n",
    "import re\n",
    "import numpy as np\n",
    "import networkx as nx"
   ]
  },
  {
   "cell_type": "code",
   "execution_count": null,
   "metadata": {},
   "outputs": [],
   "source": [
    "def atoi(text):\n",
    "    return int(text) if text.isdigit() else text\n",
    "\n",
    "def natural_keys(text):\n",
    "    return [atoi(c) for c in re.split('(\\d+)', text)]"
   ]
  },
  {
   "cell_type": "code",
   "execution_count": null,
   "metadata": {},
   "outputs": [],
   "source": [
    "path_to_data = 'data/'\n",
    "edgelists = os.listdir(path_to_data + 'edge_lists/')\n",
    "edgelists.sort(key=natural_keys)\n",
    "\n",
    "node_features = []\n",
    "for idx,edgelist in enumerate(edgelists):\n",
    "    g = nx.read_edgelist(path_to_data + 'edge_lists/' + edgelist) # construct graph from edgelist\n",
    "    degree_cen = nx.degree_centrality(g)\n",
    "    closeness_cen = nx.closeness_centrality(g)\n",
    "    betweenness_cen = nx.betweenness_centrality(g)\n",
    "    min_idx = min(map(int,g.nodes()))\n",
    "    den = nx.density(g)\n",
    "    lenth = nx.number_of_nodes(g)\n",
    "\n",
    "    for i in range(min_idx,min_idx+lenth):\n",
    "        node_i = str(i)\n",
    "        node_features.append([degree_cen[node_i],closeness_cen[node_i],betweenness_cen[node_i],den,lenth])\n",
    "\n",
    "    if idx % round(len(edgelists)/10) == 0:\n",
    "        print(idx)\n",
    "\n",
    "node_features = np.array(node_features).astype('float32') + 0.001\n",
    "max_lenth = np.max(node_features[:,-1])\n",
    "node_features[:,-1] = node_features[:,-1]/max_lenth\n",
    "node_features = np.concatenate((node_features, np.zeros([1,node_features.shape[1]])), axis=0)\n",
    "\n",
    "print('node_features array shape:', node_features.shape)\n",
    "\n",
    "np.save(path_to_data + 'node_features.npy', node_features, allow_pickle=False)\n",
    "print('node_features saved')"
   ]
  },
  {
   "cell_type": "code",
   "execution_count": null,
   "metadata": {},
   "outputs": [],
   "source": []
  }
 ],
 "metadata": {
  "kernelspec": {
   "display_name": "Python 3",
   "language": "python",
   "name": "python3"
  },
  "language_info": {
   "codemirror_mode": {
    "name": "ipython",
    "version": 3
   },
   "file_extension": ".py",
   "mimetype": "text/x-python",
   "name": "python",
   "nbconvert_exporter": "python",
   "pygments_lexer": "ipython3",
   "version": "3.6.8"
  }
 },
 "nbformat": 4,
 "nbformat_minor": 2
}
